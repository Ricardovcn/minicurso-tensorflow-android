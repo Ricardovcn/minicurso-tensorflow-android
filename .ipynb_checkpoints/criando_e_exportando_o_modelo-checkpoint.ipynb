{
 "cells": [
  {
   "cell_type": "markdown",
   "metadata": {},
   "source": [
    "## Instituto Federal do Sudeste de Minas Gerais, Campus Barbacena\n",
    "## Guia para criar e exportar um modelo do Tensorflow para ser executado no Android"
   ]
  },
  {
   "cell_type": "markdown",
   "metadata": {},
   "source": [
    "### Modelo de classificação de numeros"
   ]
  },
  {
   "cell_type": "markdown",
   "metadata": {},
   "source": [
    "### 1. Criando o modelo"
   ]
  },
  {
   "cell_type": "code",
   "execution_count": 1,
   "metadata": {},
   "outputs": [
    {
     "name": "stderr",
     "output_type": "stream",
     "text": [
      "Using TensorFlow backend.\n"
     ]
    }
   ],
   "source": [
    "import matplotlib.pyplot as plt\n",
    "from keras.utils import np_utils\n",
    "from keras import backend as K\n",
    "\n",
    "#importando o modelo e as camadas\n",
    "from keras.models import Sequential\n",
    "from keras.layers import Dense, Flatten\n",
    "from keras.layers import Conv2D, MaxPooling2D\n",
    "\n",
    "#importando o dataset\n",
    "from keras.datasets import mnist\n",
    "\n",
    "#importando o tensorflow\n",
    "import tensorflow as tf\n",
    "from tensorflow.python.tools import freeze_graph\n",
    "from tensorflow.python.tools import optimize_for_inference_lib"
   ]
  },
  {
   "cell_type": "markdown",
   "metadata": {},
   "source": [
    "### 1.1. Carregando e préprocessando a base de dados"
   ]
  },
  {
   "cell_type": "code",
   "execution_count": 2,
   "metadata": {},
   "outputs": [],
   "source": [
    "(x_train, y_train), (x_test, y_test) = mnist.load_data()"
   ]
  },
  {
   "cell_type": "code",
   "execution_count": 3,
   "metadata": {},
   "outputs": [
    {
     "data": {
      "text/plain": [
       "<matplotlib.image.AxesImage at 0x1ef02cfa308>"
      ]
     },
     "execution_count": 3,
     "metadata": {},
     "output_type": "execute_result"
    },
    {
     "data": {
      "image/png": "[encoded data removed]",
      "text/plain": [
       "<Figure size 432x288 with 1 Axes>"
      ]
     },
     "metadata": {
      "needs_background": "light"
     },
     "output_type": "display_data"
    }
   ],
   "source": [
    "###### Exibindo uma linha\n",
    "plt.imshow(x_train[5])"
   ]
  },
  {
   "cell_type": "markdown",
   "metadata": {},
   "source": [
    "Observe que a imagem está com cor, quando vamos trabalhar com reconhecimento de imagens, devemos tomar a decisã de utilizar ou não as cores. No nosso caso, as cores não são relevantes para identificar um numero, então removeremos a cor para reduzir a dimensionalidade."
   ]
  },
  {
   "cell_type": "code",
   "execution_count": 4,
   "metadata": {},
   "outputs": [
    {
     "data": {
      "text/plain": [
       "Text(0.5, 1.0, 'Target: 2')"
      ]
     },
     "execution_count": 4,
     "metadata": {},
     "output_type": "execute_result"
    },
    {
     "data": {
      "image/png": "[encoded data removed]",
      "text/plain": [
       "<Figure size 432x288 with 1 Axes>"
      ]
     },
     "metadata": {
      "needs_background": "light"
     },
     "output_type": "display_data"
    }
   ],
   "source": [
    "#Plotando a imgagem em preto e branco\n",
    "plt.imshow(x_train[5], cmap = 'gray')\n",
    "#Exibindo o target\n",
    "plt.title('Target: '+ str(y_train[5]))"
   ]
  },
  {
   "cell_type": "code",
   "execution_count": 5,
   "metadata": {},
   "outputs": [],
   "source": [
    "# Precisamos fazer uma transformação nos dados para que o tensorflow consiga fazer a leitura.\n",
    "x_train = x_train.reshape(x_train.shape[0], 28, 28, 1)\n",
    "x_train = x_train.astype('float32')"
   ]
  },
  {
   "cell_type": "code",
   "execution_count": 6,
   "metadata": {},
   "outputs": [],
   "source": [
    "x_test = x_test.reshape(x_test.shape[0], 28, 28, 1)\n",
    "x_test = x_test.astype('float32')"
   ]
  },
  {
   "cell_type": "code",
   "execution_count": 7,
   "metadata": {},
   "outputs": [],
   "source": [
    "x_train /= 255 #1 byte vai ate 255. Como no rgd.\n",
    "x_test /= 255 #1 byte vai ate 255. Como no rgb."
   ]
  },
  {
   "cell_type": "code",
   "execution_count": 8,
   "metadata": {},
   "outputs": [
    {
     "data": {
      "text/plain": [
       "5"
      ]
     },
     "execution_count": 8,
     "metadata": {},
     "output_type": "execute_result"
    }
   ],
   "source": [
    "# Observe o formato de y_train\n",
    "y_train[0]"
   ]
  },
  {
   "cell_type": "code",
   "execution_count": 10,
   "metadata": {},
   "outputs": [],
   "source": [
    "#O segundo parâmetro é o numero de classes\n",
    "y_train =  np_utils.to_categorical(y_train, 10)\n",
    "y_test =  np_utils.to_categorical(y_test, 10)"
   ]
  },
  {
   "cell_type": "code",
   "execution_count": 11,
   "metadata": {},
   "outputs": [
    {
     "data": {
      "text/plain": [
       "array([0., 0., 0., 0., 0., 1., 0., 0., 0., 0.], dtype=float32)"
      ]
     },
     "execution_count": 11,
     "metadata": {},
     "output_type": "execute_result"
    }
   ],
   "source": [
    "#observe como o numero 5 é representado apos  a transformação ( one_hot_encoding).\n",
    "y_train[0]"
   ]
  },
  {
   "cell_type": "markdown",
   "metadata": {},
   "source": [
    "### 1.2. Criando a estrutura da Rede Neural"
   ]
  },
  {
   "cell_type": "code",
   "execution_count": 14,
   "metadata": {},
   "outputs": [],
   "source": [
    "classificador = Sequential()\n",
    "\n",
    "#Camada convolucional\n",
    "# parâmetro 1: é o numero de kernels, usaremos 32 pra ganhar desempenho.\n",
    "# parâmetro 2: tamanho dos kernels\n",
    "# parâmetro 3: dimensoes da imagem\n",
    "# parâmetro 3: o formato da entrada\n",
    "classificador.add(Conv2D(32, (3,3), activation='relu'))\n",
    "\n",
    "\n",
    "#Pooling\n",
    "classificador.add(MaxPooling2D(pool_size = (2,2)))\n",
    "\n",
    "\n",
    "#Flattening\n",
    "classificador.add(Flatten())\n",
    "\n",
    "#Rede Neural Densa\n",
    "classificador.add(Dense(units=128, activation='relu'))\n",
    "classificador.add(Dense(units =10, activation = 'softmax'))\n",
    "\n",
    "#compilando o modelo\n",
    "classificador.compile(loss = 'categorical_crossentropy', optimizer = 'adam', metrics= ['accuracy'])"
   ]
  },
  {
   "cell_type": "markdown",
   "metadata": {},
   "source": [
    "### 1.3. Treinando a Rede Neural"
   ]
  },
  {
   "cell_type": "code",
   "execution_count": 17,
   "metadata": {
    "scrolled": true
   },
   "outputs": [
    {
     "name": "stdout",
     "output_type": "stream",
     "text": [
      "Train on 60000 samples, validate on 10000 samples\n",
      "Epoch 1/5\n",
      "60000/60000 [==============================] - 25s 418us/step - loss: 0.0540 - accuracy: 0.9839 - val_loss: 0.0579 - val_accuracy: 0.9819\n",
      "Epoch 2/5\n",
      "60000/60000 [==============================] - 24s 398us/step - loss: 0.0371 - accuracy: 0.9887 - val_loss: 0.0538 - val_accuracy: 0.9838\n",
      "Epoch 3/5\n",
      "60000/60000 [==============================] - 34s 568us/step - loss: 0.0288 - accuracy: 0.9914 - val_loss: 0.0426 - val_accuracy: 0.9864\n",
      "Epoch 4/5\n",
      "60000/60000 [==============================] - 28s 464us/step - loss: 0.0206 - accuracy: 0.9937 - val_loss: 0.0409 - val_accuracy: 0.9855\n",
      "Epoch 5/5\n",
      "60000/60000 [==============================] - 26s 430us/step - loss: 0.0154 - accuracy: 0.9955 - val_loss: 0.0435 - val_accuracy: 0.9872\n"
     ]
    },
    {
     "data": {
      "text/plain": [
       "<keras.callbacks.callbacks.History at 0x1ef02a34648>"
      ]
     },
     "execution_count": 17,
     "metadata": {},
     "output_type": "execute_result"
    }
   ],
   "source": [
    "#Numero de epochs pequeno pra ganhar desempenho\n",
    "classificador.fit(x_train, y_train, batch_size=128, epochs = 5, validation_data= (x_test, y_test))"
   ]
  },
  {
   "cell_type": "code",
   "execution_count": null,
   "metadata": {},
   "outputs": [],
   "source": []
  }
 ],
 "metadata": {
  "kernelspec": {
   "display_name": "Python 3",
   "language": "python",
   "name": "python3"
  },
  "language_info": {
   "codemirror_mode": {
    "name": "ipython",
    "version": 3
   },
   "file_extension": ".py",
   "mimetype": "text/x-python",
   "name": "python",
   "nbconvert_exporter": "python",
   "pygments_lexer": "ipython3",
   "version": "3.7.4"
  }
 },
 "nbformat": 4,
 "nbformat_minor": 2
}
